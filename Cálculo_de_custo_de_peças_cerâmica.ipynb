{
  "nbformat": 4,
  "nbformat_minor": 0,
  "metadata": {
    "colab": {
      "provenance": []
    },
    "kernelspec": {
      "name": "python3",
      "display_name": "Python 3"
    },
    "language_info": {
      "name": "python"
    }
  },
  "cells": [
    {
      "cell_type": "markdown",
      "source": [
        "Custo de peças de ceramica\n"
      ],
      "metadata": {
        "id": "owa3HoqVOXEQ"
      }
    },
    {
      "cell_type": "markdown",
      "source": [
        "Argila comum: 7.00 / Argila especial: 10.00 <br>\n",
        "pré queima: 200.00 <br>\n",
        "Queima final: 300.00 <br>\n",
        "Esmalte: 20,00 (100ml) <br>\n",
        "Corante: 45,00 (100ml) <br>\n",
        "Complexidade: fácil 10.00, médio 20.00, dificil 30.00 <br>\n",
        "Total = argila + queima + esmalte + complexidade <br>\n",
        "Margem = facil: 1.5x, médio: 2x, dificl: 3x\n"
      ],
      "metadata": {
        "id": "vm6A_R-xOg54"
      }
    },
    {
      "cell_type": "code",
      "execution_count": null,
      "metadata": {
        "id": "5do0t3GmOVPF"
      },
      "outputs": [],
      "source": [
        "arg_comum = 7.00\n",
        "arg_especial = 10.00\n",
        "pre_queima = 200.00\n",
        "queimaf = 300.00\n",
        "esmalte = 20.00\n",
        "corante = 45.00\n"
      ]
    },
    {
      "cell_type": "markdown",
      "source": [
        "CUSTO DA ARGILA"
      ],
      "metadata": {
        "id": "WKVABOum5xMn"
      }
    },
    {
      "cell_type": "markdown",
      "source": [],
      "metadata": {
        "id": "EB7gKGAh1bSR"
      }
    },
    {
      "cell_type": "code",
      "source": [
        "Qtd_argila = float(input('Quanto de argila foi utilizado para a confecção da peça(Kg)?'))\n",
        "tipo_arg = int(input('Qual tipo de argila está utilizando? 1-Comum ou 2-especial? Digite o número.'))\n",
        "if tipo_arg == 1:\n",
        "  tipo_arg = arg_comum\n",
        "\n",
        "else:\n",
        "  if tipo_arg == 2:\n",
        "    tipo_arg = arg_especial\n",
        "\n",
        "  else: print('Não reconhecido, digite novamente')\n",
        "\n",
        "Argila = Qtd_argila * tipo_arg\n",
        "print(Argila)\n"
      ],
      "metadata": {
        "colab": {
          "base_uri": "https://localhost:8080/"
        },
        "id": "dfAeUEeWRTL2",
        "outputId": "c61eca1b-4eb6-4319-b92c-e719c70029d9"
      },
      "execution_count": null,
      "outputs": [
        {
          "output_type": "stream",
          "name": "stdout",
          "text": [
            "Quanto de argila foi utilizado para a confecção da peça(Kg)?1\n",
            "Qual tipo de argila está utilizando? 1-Comum ou 2-especial? Digite o número.1\n",
            "7.0\n"
          ]
        }
      ]
    },
    {
      "cell_type": "markdown",
      "source": [
        "CUSTO DA QUEIMA"
      ],
      "metadata": {
        "id": "devh_Hr4zQW_"
      }
    },
    {
      "cell_type": "code",
      "source": [
        "pre_queima = 200.00\n",
        "queimaf = 300.00\n",
        "num_andar = int(input('digite a quantidade de andares possível.'))\n",
        "num_peças_andar = int(input('digite a quantidade de peças que cabem em 1 andar.'))\n",
        "Qtde_peças_forno = num_andar * num_peças_andar + 2\n",
        "\n",
        "forno = str(input('É possível sobrepor uma peça na outra? Sim ou não'))\n",
        "if forno == 'sim':\n",
        "  custo_queima = (queimaf/Qtde_peças_forno) +  (pre_queima/(Qtde_peças_forno*2))\n",
        "  print('O custo da queima é de {} reais'.format(custo_queima))\n",
        "\n",
        "elif forno == 'não':\n",
        "    custo_queima = (queimaf/Qtde_peças_forno) +  (pre_queima/Qtde_peças_forno)\n",
        "    print('O custo da queima é de {} reais'.format(custo_queima))\n",
        "\n",
        "\n",
        "\n",
        "\n"
      ],
      "metadata": {
        "colab": {
          "base_uri": "https://localhost:8080/"
        },
        "id": "sC-xpW90yYNR",
        "outputId": "0e535375-0407-42cc-fbdc-ef1e36a0f89c"
      },
      "execution_count": null,
      "outputs": [
        {
          "output_type": "stream",
          "name": "stdout",
          "text": [
            "digite a quantidade de andares possível.3\n",
            "digite a quantidade de peças que cabem em 1 andar.4\n",
            "É possível sobrepor uma peça na outra? Sim ou nãosim\n",
            "O custo da queima é de 33.333333333333336 reais\n"
          ]
        }
      ]
    },
    {
      "cell_type": "markdown",
      "source": [
        "CUSTO DE PINTURA"
      ],
      "metadata": {
        "id": "5v0RZfY73xky"
      }
    },
    {
      "cell_type": "code",
      "source": [
        "esmalte = 20.00\n",
        "corante = 45.00\n",
        "esmTransparente = 5.00\n",
        "\n",
        "tipo_tinta = int(input('Qual tipo de tinta? digite o número: 1-Esmalte 2-Corante 3-Brilhante(somente)'))\n",
        "\n",
        "\n",
        "Qtde_tinta = float(input('Quanto de tinta(ml) foi utilizado na peça?'))\n",
        "print('{}ml'.format(Qtde_tinta))\n",
        "\n",
        "Qtde_transparente = float(input('Utilizou esmTransparente? Se sim, digite a quantidade em ml. Se não, digite 0.'))\n",
        "\n",
        "if tipo_tinta == 1 and Qtde_transparente == 0:\n",
        "  print('Esmalte')\n",
        "  custo_pintura = esmalte * (Qtde_tinta/100)\n",
        "  print('O custo da pintura é de {} reais'.format(custo_pintura))\n",
        "\n",
        "elif tipo_tinta == 1 and Qtde_transparente > 0:\n",
        "  print('Esmalte com esmTransparente')\n",
        "  custo_pintura = esmalte * (Qtde_tinta/100) + (esmTransparente * (Qtde_transparente/100))\n",
        "  print('O custo da pintura é de {} reais'.format(custo_pintura))\n",
        "\n",
        "elif tipo_tinta == 2:\n",
        "  print('Corante')\n",
        "  custo_pintura = corante * (Qtde_tinta/100) + (esmTransparente * (Qtde_transparente/100))\n",
        "  print('O custo da pintura é de {} reais'.format(custo_pintura))\n",
        "\n",
        "elif tipo_tinta == 3:\n",
        "  print('Utilizou somente esmTransparente')\n",
        "  custo_pintura = esmTransparente * Qtde_tinta\n",
        "\n",
        "else: print('Algo deu errado, tente novamente')\n",
        "\n",
        "\n"
      ],
      "metadata": {
        "colab": {
          "base_uri": "https://localhost:8080/"
        },
        "id": "HLt1-GaC30dz",
        "outputId": "7cf90583-3fbd-4b9b-c849-b3dd080550b6"
      },
      "execution_count": null,
      "outputs": [
        {
          "output_type": "stream",
          "name": "stdout",
          "text": [
            "Qual tipo de tinta? digite o número: 1-Esmalte 2-Corante 3-Brilhante(somente)1\n",
            "Quanto de tinta(ml) foi utilizado na peça?60\n",
            "60.0ml\n",
            "Utilizou esmTransparente? Se sim, digite a quantidade em ml. Se não, digite 0.0\n",
            "Esmalte\n",
            "O custo da pintura é de 12.0 reais\n"
          ]
        }
      ]
    },
    {
      "cell_type": "markdown",
      "source": [
        "CÁLCULO DE COMPLEXIDADE"
      ],
      "metadata": {
        "id": "Ub_vS-OPpjeO"
      }
    },
    {
      "cell_type": "markdown",
      "source": [
        "Complexidade:<br> fácil 10.00 <br> médio 20.00<br> dificil 30.00"
      ],
      "metadata": {
        "id": "MtSi9iN2p034"
      }
    },
    {
      "cell_type": "code",
      "source": [
        "complexidade = int(input('Digite o nível de complexidade, pelo número. 1-Facil 2-Médio 3-Difícil'))\n",
        "print('O nível da complexidade é {}'.format(complexidade))\n",
        "\n",
        "if complexidade == 1:\n",
        "  custo_complex = 10.00\n",
        "  print('O custo da complexidade é {}'.format(custo_complex))\n",
        "\n",
        "elif complexidade == 2:\n",
        "  custo_complex = 20.00\n",
        "  print('O custo da complexidade é {}'.format(custo_complex))\n",
        "\n",
        "elif complexidade == 3:\n",
        "  custo_complex = 30.00\n",
        "  print('O custo da complexidade é {}'.format(custo_complex))\n",
        "\n",
        "else: print('Digite o número correto')"
      ],
      "metadata": {
        "colab": {
          "base_uri": "https://localhost:8080/"
        },
        "id": "GDL7NPK_pa2f",
        "outputId": "3e1f8a04-3658-4d01-8507-b1f2b5236a46"
      },
      "execution_count": null,
      "outputs": [
        {
          "output_type": "stream",
          "name": "stdout",
          "text": [
            "Digite o nível de complexidade, pelo número. 1-Facil 2-Médio 3-Difícil2\n",
            "O nível da complexidade é 2\n",
            "O custo da complexidade é 20.0\n"
          ]
        }
      ]
    },
    {
      "cell_type": "markdown",
      "source": [
        "Total = argila + queima + esmalte + complexidade <br>\n",
        "Margem: <br> facil: 1.5x <br> médio: 2x <br> dificl: 3x"
      ],
      "metadata": {
        "id": "YpHY8zwO1itJ"
      }
    },
    {
      "cell_type": "code",
      "source": [
        "custo_peca = Argila + custo_queima + custo_pintura + custo_complex\n",
        "print('Custo da peça = {}'.format(custo_peca))\n",
        "\n",
        "margem = complexidade\n",
        "\n",
        "if margem == 1:\n",
        "  valor = custo_peca * 1.5\n",
        "  print('Valor da peça = {}'.format(valor))\n",
        "\n",
        "elif margem == 2:\n",
        "  valor = custo_peca * 2\n",
        "  print('Valor da peça = {}'.format(valor))\n",
        "\n",
        "elif margem == 3:\n",
        "  valor = custo_peca * 3\n",
        "  print('Valor da peça = {}'.format(valor))\n",
        "\n",
        "else: pass\n"
      ],
      "metadata": {
        "colab": {
          "base_uri": "https://localhost:8080/"
        },
        "id": "U9MoFjUB1yrQ",
        "outputId": "247d6a8b-0160-42fb-9c4b-abb757f05abc"
      },
      "execution_count": null,
      "outputs": [
        {
          "output_type": "stream",
          "name": "stdout",
          "text": [
            "Custo da peça = 72.33333333333334\n",
            "Valor da peça = 144.66666666666669\n"
          ]
        }
      ]
    }
  ]
}